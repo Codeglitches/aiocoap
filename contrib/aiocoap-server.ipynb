{
  "metadata": {
    "toc-showcode": false,
    "toc-autonumbering": false,
    "toc-showtags": false,
    "language_info": {
      "codemirror_mode": {
        "name": "python",
        "version": 3
      },
      "file_extension": ".py",
      "mimetype": "text/x-python",
      "name": "python",
      "nbconvert_exporter": "python",
      "pygments_lexer": "ipython3",
      "version": "3.8"
    },
    "kernelspec": {
      "name": "python",
      "display_name": "Python (Pyodide)",
      "language": "python"
    }
  },
  "nbformat_minor": 4,
  "nbformat": 4,
  "cells": [
    {
      "cell_type": "code",
      "source": "import micropip\nawait micropip.install(\"https://christian.amsuess.com/aiocoap-0.4.5.post0-py3-none-any.whl\")\nawait micropip.install(\"https://christian.amsuess.com/LinkHeader-0.4.2-py3-none-any.whl\")\nimport aiocoap\nctx = await aiocoap.Context.create_client_context()",
      "metadata": {
        "trusted": true
      },
      "execution_count": 7,
      "outputs": []
    },
    {
      "cell_type": "code",
      "source": "from aiocoap import resource\n\nclass WhoAmI(resource.Resource):\n    async def render_get(self, request):\n        text = [\"Used protocol: %s.\" % request.remote.scheme]\n\n        text.append(\"Request came from %s.\" % request.remote.hostinfo)\n        text.append(\"The server address used %s.\" % request.remote.hostinfo_local)\n\n        claims = list(request.remote.authenticated_claims)\n        if claims:\n            text.append(\"Authenticated claims of the client: %s.\" % \", \".join(repr(c) for c in claims))\n        else:\n            text.append(\"No claims authenticated.\")\n\n        return aiocoap.Message(content_format=0,\n                payload=\"\\n\".join(text).encode('utf8'))\n\nroot = resource.Site()\nroot.add_resource(['.well-known', 'core'],\n    resource.WKCResource(root.get_resources_as_linkheader))\nroot.add_resource(['whoami'], WhoAmI())\nctx.serversite = root",
      "metadata": {
        "trusted": true
      },
      "execution_count": 8,
      "outputs": []
    },
    {
      "cell_type": "code",
      "source": "req = aiocoap.Message(\n    code=aiocoap.POST,\n    uri=\"coaps+ws://rd.coap.amsuess.com/.well-known/rd?proxy=on&ep=jupyter\")\nawait ctx.request(req).response",
      "metadata": {
        "trusted": true
      },
      "execution_count": 9,
      "outputs": [
        {
          "execution_count": 9,
          "output_type": "execute_result",
          "data": {
            "text/plain": "<aiocoap.Message at 0x1b393b8: no mtype, 2.04 Changed (no MID, token 095c) remote <WSRemote at 0x206cd90, hostinfo rd.coap.amsuess.com, local [::]:1234>>"
          },
          "metadata": {}
        }
      ]
    }
  ]
}